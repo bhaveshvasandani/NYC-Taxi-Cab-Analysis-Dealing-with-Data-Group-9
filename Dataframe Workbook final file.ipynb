{
 "cells": [
  {
   "cell_type": "code",
   "execution_count": 2,
   "metadata": {
    "collapsed": true
   },
   "outputs": [],
   "source": [
    "import sys\n",
    "import requests\n",
    "import json\n",
    "import re\n",
    "import time\n",
    "import datetime\n",
    "from datetime import date\n",
    "\n",
    "import pandas as pd\n",
    "import numpy as np\n"
   ]
  },
  {
   "cell_type": "code",
   "execution_count": 3,
   "metadata": {
    "collapsed": true
   },
   "outputs": [],
   "source": [
    "numrecords = 5"
   ]
  },
  {
   "cell_type": "code",
   "execution_count": 4,
   "metadata": {
    "collapsed": false
   },
   "outputs": [],
   "source": [
    "## Get data from taxicab api\n",
    "\n",
    "url = 'https://data.cityofnewyork.us/id/2yzn-sicd.json?$limit=%s' %(numrecords)\n",
    "resp = requests.get(url)\n",
    "results = json.loads(resp.text)"
   ]
  },
  {
   "cell_type": "code",
   "execution_count": 5,
   "metadata": {
    "collapsed": false
   },
   "outputs": [
    {
     "data": {
      "text/plain": [
       "5"
      ]
     },
     "execution_count": 5,
     "metadata": {},
     "output_type": "execute_result"
    }
   ],
   "source": [
    "# check that results brought back the expected number of records (should == numrecords)\n",
    "\n",
    "len(results)"
   ]
  },
  {
   "cell_type": "code",
   "execution_count": 6,
   "metadata": {
    "collapsed": false
   },
   "outputs": [
    {
     "data": {
      "text/html": [
       "<div>\n",
       "<table border=\"1\" class=\"dataframe\">\n",
       "  <thead>\n",
       "    <tr style=\"text-align: right;\">\n",
       "      <th></th>\n",
       "      <th>dropoff_datetime</th>\n",
       "      <th>dropoff_latitude</th>\n",
       "      <th>dropoff_longitude</th>\n",
       "      <th>extra</th>\n",
       "      <th>fare_amount</th>\n",
       "      <th>imp_surcharge</th>\n",
       "      <th>mta_tax</th>\n",
       "      <th>passenger_count</th>\n",
       "      <th>payment_type</th>\n",
       "      <th>pickup_datetime</th>\n",
       "      <th>pickup_latitude</th>\n",
       "      <th>pickup_longitude</th>\n",
       "      <th>ratecodeid</th>\n",
       "      <th>store_and_fwd_flag</th>\n",
       "      <th>tip_amount</th>\n",
       "      <th>tolls_amount</th>\n",
       "      <th>total_amount</th>\n",
       "      <th>trip_distance</th>\n",
       "      <th>vendor_id</th>\n",
       "    </tr>\n",
       "  </thead>\n",
       "  <tbody>\n",
       "    <tr>\n",
       "      <th>0</th>\n",
       "      <td>2015-08-02T01:01:59.000</td>\n",
       "      <td>40.773345947265625</td>\n",
       "      <td>-73.948089599609375</td>\n",
       "      <td>0.5</td>\n",
       "      <td>16</td>\n",
       "      <td>0.3</td>\n",
       "      <td>0.5</td>\n",
       "      <td>1</td>\n",
       "      <td>1</td>\n",
       "      <td>2015-08-02T00:46:11.000</td>\n",
       "      <td>40.752010345458984</td>\n",
       "      <td>-74.004844665527344</td>\n",
       "      <td>1</td>\n",
       "      <td>N</td>\n",
       "      <td>3.46</td>\n",
       "      <td>0</td>\n",
       "      <td>20.76</td>\n",
       "      <td>4.8</td>\n",
       "      <td>1</td>\n",
       "    </tr>\n",
       "    <tr>\n",
       "      <th>1</th>\n",
       "      <td>2015-08-24T09:48:46.000</td>\n",
       "      <td>40.762149810791016</td>\n",
       "      <td>-73.972213745117188</td>\n",
       "      <td>0</td>\n",
       "      <td>8</td>\n",
       "      <td>0.3</td>\n",
       "      <td>0.5</td>\n",
       "      <td>5</td>\n",
       "      <td>2</td>\n",
       "      <td>2015-08-24T09:40:05.000</td>\n",
       "      <td>40.766460418701172</td>\n",
       "      <td>-73.9539794921875</td>\n",
       "      <td>1</td>\n",
       "      <td>N</td>\n",
       "      <td>0</td>\n",
       "      <td>0</td>\n",
       "      <td>8.8</td>\n",
       "      <td>1.43</td>\n",
       "      <td>2</td>\n",
       "    </tr>\n",
       "    <tr>\n",
       "      <th>2</th>\n",
       "      <td>2015-08-04T15:53:32.000</td>\n",
       "      <td>40.770393371582031</td>\n",
       "      <td>-73.96435546875</td>\n",
       "      <td>0</td>\n",
       "      <td>11.5</td>\n",
       "      <td>0.3</td>\n",
       "      <td>0.5</td>\n",
       "      <td>1</td>\n",
       "      <td>1</td>\n",
       "      <td>2015-08-04T15:37:16.000</td>\n",
       "      <td>40.751499176025391</td>\n",
       "      <td>-73.975486755371094</td>\n",
       "      <td>1</td>\n",
       "      <td>N</td>\n",
       "      <td>1.5</td>\n",
       "      <td>0</td>\n",
       "      <td>13.8</td>\n",
       "      <td>1.5</td>\n",
       "      <td>1</td>\n",
       "    </tr>\n",
       "  </tbody>\n",
       "</table>\n",
       "</div>"
      ],
      "text/plain": [
       "          dropoff_datetime    dropoff_latitude    dropoff_longitude extra  \\\n",
       "0  2015-08-02T01:01:59.000  40.773345947265625  -73.948089599609375   0.5   \n",
       "1  2015-08-24T09:48:46.000  40.762149810791016  -73.972213745117188     0   \n",
       "2  2015-08-04T15:53:32.000  40.770393371582031      -73.96435546875     0   \n",
       "\n",
       "  fare_amount imp_surcharge mta_tax passenger_count payment_type  \\\n",
       "0          16           0.3     0.5               1            1   \n",
       "1           8           0.3     0.5               5            2   \n",
       "2        11.5           0.3     0.5               1            1   \n",
       "\n",
       "           pickup_datetime     pickup_latitude     pickup_longitude  \\\n",
       "0  2015-08-02T00:46:11.000  40.752010345458984  -74.004844665527344   \n",
       "1  2015-08-24T09:40:05.000  40.766460418701172    -73.9539794921875   \n",
       "2  2015-08-04T15:37:16.000  40.751499176025391  -73.975486755371094   \n",
       "\n",
       "  ratecodeid store_and_fwd_flag tip_amount tolls_amount total_amount  \\\n",
       "0          1                  N       3.46            0        20.76   \n",
       "1          1                  N          0            0          8.8   \n",
       "2          1                  N        1.5            0         13.8   \n",
       "\n",
       "  trip_distance vendor_id  \n",
       "0           4.8         1  \n",
       "1          1.43         2  \n",
       "2           1.5         1  "
      ]
     },
     "execution_count": 6,
     "metadata": {},
     "output_type": "execute_result"
    }
   ],
   "source": [
    "## generate Trips DataFrame\n",
    "\n",
    "TripsDF = pd.DataFrame(list(results))\n",
    "TripsDF.head(3)\n"
   ]
  },
  {
   "cell_type": "code",
   "execution_count": 7,
   "metadata": {
    "collapsed": false
   },
   "outputs": [],
   "source": [
    "#Assigning correct datatypes\n",
    "TripsDF[\"dropoff_datetime\"] = pd.to_datetime(TripsDF[\"dropoff_datetime\"],infer_datetime_format=True)\n",
    "TripsDF[\"pickup_datetime\"] = pd.to_datetime(TripsDF[\"pickup_datetime\"],infer_datetime_format=True)\n",
    "TripsDF[\"passenger_count\"] = pd.to_numeric(TripsDF[\"passenger_count\"])\n",
    "TripsDF['trip_distance'] = TripsDF['trip_distance'].astype('float64')\n",
    "TripsDF['tip_amount'] = TripsDF['tip_amount'].astype('float64')\n",
    "TripsDF['pickup_latitude'] = TripsDF['pickup_latitude'].astype('float64') \n",
    "TripsDF['pickup_longitude'] = TripsDF['pickup_longitude'].astype('float64') \n",
    "TripsDF['dropoff_latitude'] = TripsDF['dropoff_latitude'].astype('float64') \n",
    "TripsDF['dropoff_longitude'] = TripsDF['dropoff_longitude'].astype('float64') "
   ]
  },
  {
   "cell_type": "code",
   "execution_count": 9,
   "metadata": {
    "collapsed": false
   },
   "outputs": [],
   "source": [
    "odd = TripsDF.loc[TripsDF.pickup_longitude==0, ['pickup_longitude', 'pickup_latitude']]\n",
    "odd\n",
    "TripsDF= TripsDF.drop(odd.index)"
   ]
  },
  {
   "cell_type": "code",
   "execution_count": 10,
   "metadata": {
    "collapsed": false
   },
   "outputs": [
    {
     "name": "stdout",
     "output_type": "stream",
     "text": [
      "013600 061 009900 061\n",
      "011202 061 012400 061\n",
      "013000 061 009200 061\n",
      "114700 081 033100 081\n",
      "005600 061 012100 061\n"
     ]
    }
   ],
   "source": [
    "\n",
    "\n",
    "l = []\n",
    "k = []\n",
    "\n",
    "q = []\n",
    "r = []\n",
    "s = []\n",
    "\n",
    "t = []\n",
    "u = []\n",
    "v = []\n",
    "\n",
    "for i in TripsDF.index:\n",
    "\n",
    "    ## add dropoffinfo column to Trips dataframe:\n",
    "\n",
    "    dropoff_latitude = TripsDF.loc[i, 'dropoff_latitude']\n",
    "    dropoff_longitude = TripsDF.loc[i, 'dropoff_longitude']\n",
    "    try:\n",
    "        dropoff_url2 = \"http://data.fcc.gov/api/block/find?format=json&latitude=%s&longitude=%s&showall=true\" %(dropoff_latitude,dropoff_longitude)\n",
    "        dropoff_resp2 = requests.get(dropoff_url2)\n",
    "        dropoff_results2 = json.loads(dropoff_resp2.text)\n",
    "        dropoffinfo = dropoff_results2[\"Block\"][\"FIPS\"][2:11]\n",
    "    except:\n",
    "        dropffinfo=\"000000000\"\n",
    "            \n",
    "\n",
    "    ## add pickupinfo column to Trips dataframe:\n",
    "    \n",
    "    pickup_latitude = TripsDF.loc[i, 'pickup_latitude']\n",
    "    pickup_longitude = TripsDF.loc[i, 'pickup_longitude']\n",
    "    try:\n",
    "        pickup_url2 = \"http://data.fcc.gov/api/block/find?format=json&latitude=%s&longitude=%s&showall=true\" %(pickup_latitude,pickup_longitude)\n",
    "        pickup_resp2 = requests.get(pickup_url2)\n",
    "        pickup_results2 = json.loads(pickup_resp2.text)\n",
    "        pickupinfo = pickup_results2[\"Block\"][\"FIPS\"][2:11]\n",
    "    except:\n",
    "        pickupinfo=\"000000000\"\n",
    "\n",
    "    \n",
    "    l.append(dropoffinfo)\n",
    "    k.append(pickupinfo)\n",
    "\n",
    "\n",
    "    try:\n",
    "        dropofftract = dropoffinfo[3:9]\n",
    "        dropoffcounty = dropoffinfo[0:3]\n",
    "        pickuptract = pickupinfo[3:9]\n",
    "        pickupcounty = pickupinfo[0:3]\n",
    "        \n",
    "        print(dropofftract,dropoffcounty,pickuptract,pickupcounty)\n",
    "\n",
    "    #add pickup parameters\n",
    "\n",
    "        tract = pickuptract\n",
    "        county = pickupcounty\n",
    "\n",
    "        ## pickup_pop\n",
    "        try:\n",
    "            variablename = \"PCT0120001\"\n",
    "            url3 = \"http://api.census.gov/data/2010/sf1?get=%s&for=tract:%s&in=state:36&in=county:%s&key=b0521cf638e6b5b2020031d032a0f0fad26d8678\" %(variablename, tract, county) \n",
    "            resp3 = requests.get(url3)\n",
    "            results3 = json.loads(resp3.text)\n",
    "            pop = results3[1][0] \n",
    "\n",
    "            q.append(pop)\n",
    "        except:\n",
    "            q.append(None)\n",
    "\n",
    "        ## pickup_male\n",
    "        try:\n",
    "\n",
    "            variablename = \"PCT0120002\"\n",
    "            url3 = \"http://api.census.gov/data/2010/sf1?get=%s&for=tract:%s&in=state:36&in=county:%s&key=b0521cf638e6b5b2020031d032a0f0fad26d8678\" %(variablename, tract, county) \n",
    "            resp3 = requests.get(url3)\n",
    "            results3 = json.loads(resp3.text)\n",
    "            male = results3[1][0] \n",
    "\n",
    "            r.append(male)\n",
    "        except:\n",
    "            r.append(None)\n",
    "\n",
    "        ## pickup_avghh\n",
    "        try:\n",
    "            variablename = \"P0170001\"\n",
    "            url3 = \"http://api.census.gov/data/2010/sf1?get=%s&for=tract:%s&in=state:36&in=county:%s&key=b0521cf638e6b5b2020031d032a0f0fad26d8678\" %(variablename, tract, county) \n",
    "            resp3 = requests.get(url3)\n",
    "            results3 = json.loads(resp3.text)\n",
    "            avghh = results3[1][0] \n",
    "\n",
    "            s.append(avghh)\n",
    "        except:\n",
    "            s.append(None)\n",
    "        \n",
    "        #add dropoff parameters\n",
    "\n",
    "        tract = dropofftract\n",
    "        county = dropoffcounty\n",
    "\n",
    "        ## dropoff_pop\n",
    "        try:\n",
    "            variablename = \"PCT0120001\"\n",
    "            url3 = \"http://api.census.gov/data/2010/sf1?get=%s&for=tract:%s&in=state:36&in=county:%s&key=b0521cf638e6b5b2020031d032a0f0fad26d8678\" %(variablename, tract, county) \n",
    "            resp3 = requests.get(url3)\n",
    "            results3 = json.loads(resp3.text)\n",
    "            pop = results3[1][0] \n",
    "\n",
    "            t.append(pop)\n",
    "        except:\n",
    "            t.append(None)\n",
    "\n",
    "        ## dropoff_male\n",
    "        try:\n",
    "\n",
    "            variablename = \"PCT0120002\"\n",
    "            url3 = \"http://api.census.gov/data/2010/sf1?get=%s&for=tract:%s&in=state:36&in=county:%s&key=b0521cf638e6b5b2020031d032a0f0fad26d8678\" %(variablename, tract, county) \n",
    "            resp3 = requests.get(url3)\n",
    "            results3 = json.loads(resp3.text)\n",
    "            male = results3[1][0] \n",
    "\n",
    "            u.append(male)\n",
    "        except:\n",
    "            u.append(None)\n",
    "\n",
    "        ## dropoff_avghh\n",
    "        try:\n",
    "            variablename = \"P0170001\"\n",
    "            url3 = \"http://api.census.gov/data/2010/sf1?get=%s&for=tract:%s&in=state:36&in=county:%s&key=b0521cf638e6b5b2020031d032a0f0fad26d8678\" %(variablename, tract, county) \n",
    "            resp3 = requests.get(url3)\n",
    "            results3 = json.loads(resp3.text)\n",
    "            avghh = results3[1][0] \n",
    "\n",
    "            v.append(avghh)\n",
    "        except:\n",
    "            v.append(None)\n",
    "    \n",
    "    except:\n",
    "        k.append(None)\n",
    "        l.append(None)\n",
    "        q.append(None)\n",
    "        r.append(None)\n",
    "        s.append(None)\n",
    "        t.append(None)\n",
    "        u.append(None)\n",
    "        v.append(None)\n",
    "\n",
    "    \n",
    "TripsDF['pickupinfo'] = k\n",
    "TripsDF['dropoffinfo'] = l\n",
    "\n",
    "TripsDF['pickup_pop'] = q\n",
    "TripsDF['pickup_male'] = r\n",
    "TripsDF['pickup_avghh'] = s\n",
    "\n",
    "TripsDF['dropoff_pop'] = t\n",
    "TripsDF['dropoff_male'] = u\n",
    "TripsDF['dropoff_avghh'] = v\n",
    "\n",
    "\n",
    "####  with thanks to user on stackoverflow:\n",
    "#### https://stackoverflow.com/questions/43750016/getting-specific-data-values-out-of-a-dataframe-python-pandas\n",
    "\n"
   ]
  },
  {
   "cell_type": "code",
   "execution_count": 11,
   "metadata": {
    "collapsed": false
   },
   "outputs": [
    {
     "data": {
      "text/html": [
       "<div>\n",
       "<table border=\"1\" class=\"dataframe\">\n",
       "  <thead>\n",
       "    <tr style=\"text-align: right;\">\n",
       "      <th></th>\n",
       "      <th>dropoff_datetime</th>\n",
       "      <th>dropoff_latitude</th>\n",
       "      <th>dropoff_longitude</th>\n",
       "      <th>extra</th>\n",
       "      <th>fare_amount</th>\n",
       "      <th>mta_tax</th>\n",
       "      <th>passenger_count</th>\n",
       "      <th>payment_type</th>\n",
       "      <th>pickup_datetime</th>\n",
       "      <th>pickup_latitude</th>\n",
       "      <th>...</th>\n",
       "      <th>trip_distance</th>\n",
       "      <th>vendor_id</th>\n",
       "      <th>pickupinfo</th>\n",
       "      <th>dropoffinfo</th>\n",
       "      <th>pickup_pop</th>\n",
       "      <th>pickup_male</th>\n",
       "      <th>pickup_avghh</th>\n",
       "      <th>dropoff_pop</th>\n",
       "      <th>dropoff_male</th>\n",
       "      <th>dropoff_avghh</th>\n",
       "    </tr>\n",
       "  </thead>\n",
       "  <tbody>\n",
       "    <tr>\n",
       "      <th>0</th>\n",
       "      <td>2015-06-15 12:57:18</td>\n",
       "      <td>40.763279</td>\n",
       "      <td>-73.992828</td>\n",
       "      <td>0</td>\n",
       "      <td>5.5</td>\n",
       "      <td>0.5</td>\n",
       "      <td>1</td>\n",
       "      <td>1</td>\n",
       "      <td>2015-06-15 12:52:34</td>\n",
       "      <td>40.756920</td>\n",
       "      <td>...</td>\n",
       "      <td>0.90</td>\n",
       "      <td>1</td>\n",
       "      <td>061009900</td>\n",
       "      <td>061012900</td>\n",
       "      <td>1945</td>\n",
       "      <td>1002</td>\n",
       "      <td>1.62</td>\n",
       "      <td>6038</td>\n",
       "      <td>3432</td>\n",
       "      <td>1.72</td>\n",
       "    </tr>\n",
       "    <tr>\n",
       "      <th>1</th>\n",
       "      <td>2015-05-18 20:24:08</td>\n",
       "      <td>40.752293</td>\n",
       "      <td>-73.992882</td>\n",
       "      <td>0.5</td>\n",
       "      <td>11</td>\n",
       "      <td>0.5</td>\n",
       "      <td>1</td>\n",
       "      <td>2</td>\n",
       "      <td>2015-05-18 20:09:18</td>\n",
       "      <td>40.731419</td>\n",
       "      <td>...</td>\n",
       "      <td>2.01</td>\n",
       "      <td>2</td>\n",
       "      <td>061005900</td>\n",
       "      <td>061010900</td>\n",
       "      <td>5401</td>\n",
       "      <td>2476</td>\n",
       "      <td>1.61</td>\n",
       "      <td>183</td>\n",
       "      <td>82</td>\n",
       "      <td>1.59</td>\n",
       "    </tr>\n",
       "    <tr>\n",
       "      <th>2</th>\n",
       "      <td>2015-02-13 09:14:26</td>\n",
       "      <td>40.752003</td>\n",
       "      <td>-73.976936</td>\n",
       "      <td>0</td>\n",
       "      <td>9.5</td>\n",
       "      <td>0.5</td>\n",
       "      <td>1</td>\n",
       "      <td>2</td>\n",
       "      <td>2015-02-13 09:00:35</td>\n",
       "      <td>40.755207</td>\n",
       "      <td>...</td>\n",
       "      <td>0.76</td>\n",
       "      <td>2</td>\n",
       "      <td>061011300</td>\n",
       "      <td>061009200</td>\n",
       "      <td>117</td>\n",
       "      <td>72</td>\n",
       "      <td>1.18</td>\n",
       "      <td>1806</td>\n",
       "      <td>882</td>\n",
       "      <td>1.48</td>\n",
       "    </tr>\n",
       "    <tr>\n",
       "      <th>3</th>\n",
       "      <td>2015-02-13 18:45:12</td>\n",
       "      <td>40.775608</td>\n",
       "      <td>-73.983459</td>\n",
       "      <td>1</td>\n",
       "      <td>12</td>\n",
       "      <td>0.5</td>\n",
       "      <td>1</td>\n",
       "      <td>1</td>\n",
       "      <td>2015-02-13 18:27:27</td>\n",
       "      <td>40.762711</td>\n",
       "      <td>...</td>\n",
       "      <td>1.93</td>\n",
       "      <td>2</td>\n",
       "      <td>061013300</td>\n",
       "      <td>061015300</td>\n",
       "      <td>6208</td>\n",
       "      <td>3302</td>\n",
       "      <td>1.74</td>\n",
       "      <td>9320</td>\n",
       "      <td>4294</td>\n",
       "      <td>1.75</td>\n",
       "    </tr>\n",
       "    <tr>\n",
       "      <th>4</th>\n",
       "      <td>2015-02-09 17:01:54</td>\n",
       "      <td>40.756252</td>\n",
       "      <td>-74.002899</td>\n",
       "      <td>1</td>\n",
       "      <td>11</td>\n",
       "      <td>0.5</td>\n",
       "      <td>2</td>\n",
       "      <td>2</td>\n",
       "      <td>2015-02-09 16:48:14</td>\n",
       "      <td>40.760010</td>\n",
       "      <td>...</td>\n",
       "      <td>2.30</td>\n",
       "      <td>1</td>\n",
       "      <td>061010200</td>\n",
       "      <td>061009900</td>\n",
       "      <td>230</td>\n",
       "      <td>126</td>\n",
       "      <td>1.58</td>\n",
       "      <td>1945</td>\n",
       "      <td>1002</td>\n",
       "      <td>1.62</td>\n",
       "    </tr>\n",
       "  </tbody>\n",
       "</table>\n",
       "<p>5 rows × 26 columns</p>\n",
       "</div>"
      ],
      "text/plain": [
       "     dropoff_datetime  dropoff_latitude  dropoff_longitude extra fare_amount  \\\n",
       "0 2015-06-15 12:57:18         40.763279         -73.992828     0         5.5   \n",
       "1 2015-05-18 20:24:08         40.752293         -73.992882   0.5          11   \n",
       "2 2015-02-13 09:14:26         40.752003         -73.976936     0         9.5   \n",
       "3 2015-02-13 18:45:12         40.775608         -73.983459     1          12   \n",
       "4 2015-02-09 17:01:54         40.756252         -74.002899     1          11   \n",
       "\n",
       "  mta_tax  passenger_count payment_type     pickup_datetime  pickup_latitude  \\\n",
       "0     0.5                1            1 2015-06-15 12:52:34        40.756920   \n",
       "1     0.5                1            2 2015-05-18 20:09:18        40.731419   \n",
       "2     0.5                1            2 2015-02-13 09:00:35        40.755207   \n",
       "3     0.5                1            1 2015-02-13 18:27:27        40.762711   \n",
       "4     0.5                2            2 2015-02-09 16:48:14        40.760010   \n",
       "\n",
       "       ...       trip_distance vendor_id pickupinfo dropoffinfo pickup_pop  \\\n",
       "0      ...                0.90         1  061009900   061012900       1945   \n",
       "1      ...                2.01         2  061005900   061010900       5401   \n",
       "2      ...                0.76         2  061011300   061009200        117   \n",
       "3      ...                1.93         2  061013300   061015300       6208   \n",
       "4      ...                2.30         1  061010200   061009900        230   \n",
       "\n",
       "  pickup_male  pickup_avghh dropoff_pop dropoff_male dropoff_avghh  \n",
       "0        1002          1.62        6038         3432          1.72  \n",
       "1        2476          1.61         183           82          1.59  \n",
       "2          72          1.18        1806          882          1.48  \n",
       "3        3302          1.74        9320         4294          1.75  \n",
       "4         126          1.58        1945         1002          1.62  \n",
       "\n",
       "[5 rows x 26 columns]"
      ]
     },
     "execution_count": 11,
     "metadata": {},
     "output_type": "execute_result"
    }
   ],
   "source": [
    "## scroll to the right to see the new Census data columns\n",
    "\n",
    "TripsDF.head(5)"
   ]
  },
  {
   "cell_type": "code",
   "execution_count": 12,
   "metadata": {
    "collapsed": false
   },
   "outputs": [
    {
     "name": "stdout",
     "output_type": "stream",
     "text": [
      "<class 'pandas.core.frame.DataFrame'>\n",
      "Int64Index: 982 entries, 0 to 999\n",
      "Data columns (total 26 columns):\n",
      "dropoff_datetime      982 non-null datetime64[ns]\n",
      "dropoff_latitude      982 non-null float64\n",
      "dropoff_longitude     982 non-null float64\n",
      "extra                 982 non-null object\n",
      "fare_amount           982 non-null object\n",
      "mta_tax               982 non-null object\n",
      "passenger_count       982 non-null int64\n",
      "payment_type          982 non-null object\n",
      "pickup_datetime       982 non-null datetime64[ns]\n",
      "pickup_latitude       982 non-null float64\n",
      "pickup_longitude      982 non-null float64\n",
      "rate_code             982 non-null object\n",
      "store_and_fwd_flag    982 non-null object\n",
      "tip_amount            982 non-null object\n",
      "tolls_amount          982 non-null object\n",
      "total_amount          982 non-null object\n",
      "trip_distance         982 non-null float64\n",
      "vendor_id             982 non-null object\n",
      "pickupinfo            982 non-null object\n",
      "dropoffinfo           982 non-null object\n",
      "pickup_pop            982 non-null object\n",
      "pickup_male           982 non-null object\n",
      "pickup_avghh          982 non-null object\n",
      "dropoff_pop           981 non-null object\n",
      "dropoff_male          981 non-null object\n",
      "dropoff_avghh         981 non-null object\n",
      "dtypes: datetime64[ns](2), float64(5), int64(1), object(18)\n",
      "memory usage: 207.1+ KB\n"
     ]
    }
   ],
   "source": [
    "## scroll down to see the size of the data stored\n",
    "TripsDF.info()"
   ]
  },
  {
   "cell_type": "code",
   "execution_count": 25,
   "metadata": {
    "collapsed": false
   },
   "outputs": [
    {
     "data": {
      "image/png": "[encoded data removed]",
      "text/plain": [
       "<matplotlib.figure.Figure at 0x2b07d4ceb8>"
      ]
     },
     "metadata": {},
     "output_type": "display_data"
    },
    {
     "data": {
      "image/png": "[encoded data removed]",
      "text/plain": [
       "<matplotlib.figure.Figure at 0x2b09ac4c50>"
      ]
     },
     "metadata": {},
     "output_type": "display_data"
    }
   ],
   "source": [
    "%matplotlib inline\n",
    "import matplotlib.pyplot as plt\n",
    "\n",
    "## here is a boxplot comparing tips for cash payment versus non-cash payment\n",
    "\n",
    "bp = TripsDF.boxplot(column='tip_amount', by='payment_type', grid=False, figsize=(8,4))\n",
    "for i in [0,1,2]:\n",
    "    y = TripsDF.tip_amount[TripsDF.payment_type==i].dropna()\n",
    "    # The below is an idiom to create a list of len(y) size, all filled with the value i\n",
    "    x = [i] * len(y)\n",
    "\n",
    "   \n",
    "bp2 = TripsDF.boxplot(widths=0.5, sym='',column='tip_amount', by='fare_amount', figsize = (20,5), grid=False)\n",
    "for i in [0,1,2]:\n",
    "    y=TripsDF.tip_amount[TripsDF.fare_amount==i].dropna()\n",
    "    x = [i] * len(y)\n",
    "    plt.xticks(x,TripsDF.fare_amount)\n",
    "\n",
    "#     plt.plot(x,y,'r.',alpha=0.3)\n",
    "#     #     plt.plot(x, y, 'r.', alpha=0.3)\n",
    "# #     TripsDF.plot.area(x = 'payment_type', y = 'tip_amount')\n",
    "\n",
    "\n"
   ]
  },
  {
   "cell_type": "code",
   "execution_count": 48,
   "metadata": {
    "collapsed": false
   },
   "outputs": [],
   "source": [
    "TripsDF['pickup_avghh'] = TripsDF['pickup_avghh'].astype('float64')\n",
    "TripsDF['dropoff_avghh'] = TripsDF['dropoff_avghh'].astype('float64')\n",
    "\n",
    "TripsDF['passenger_count'] = TripsDF['passenger_count'].astype('float64')\n",
    "TripsDF['pickup_pop'] = TripsDF['pickup_pop'].astype('float64')\n",
    "TripsDF['dropoff_pop'] = TripsDF['dropoff_pop'].astype('float64')\n",
    "\n",
    "\n",
    "TripsDF['pickup_male'] = TripsDF['pickup_male'].astype('float64')\n",
    "TripsDF['pickup_malepercent'] = TripsDF['pickup_male']/TripsDF['pickup_pop']\n",
    "\n"
   ]
  },
  {
   "cell_type": "code",
   "execution_count": 37,
   "metadata": {
    "collapsed": false
   },
   "outputs": [
    {
     "data": {
      "image/png": "[encoded data removed]",
      "text/plain": [
       "<matplotlib.figure.Figure at 0x2b0a1faa58>"
      ]
     },
     "metadata": {},
     "output_type": "display_data"
    }
   ],
   "source": [
    "TripsDF.plot.scatter(x='pickup_avghh', y='dropoff_avghh');"
   ]
  },
  {
   "cell_type": "code",
   "execution_count": 39,
   "metadata": {
    "collapsed": false
   },
   "outputs": [
    {
     "data": {
      "image/png": "[encoded data removed]",
      "text/plain": [
       "<matplotlib.figure.Figure at 0x2b0a65e518>"
      ]
     },
     "metadata": {},
     "output_type": "display_data"
    }
   ],
   "source": [
    "TripsDF.plot.scatter(x='dropoff_avghh', y='passenger_count');"
   ]
  },
  {
   "cell_type": "code",
   "execution_count": 52,
   "metadata": {
    "collapsed": false
   },
   "outputs": [
    {
     "data": {
      "image/png": "[encoded data removed]",
      "text/plain": [
       "<matplotlib.figure.Figure at 0x2b09b9c278>"
      ]
     },
     "metadata": {},
     "output_type": "display_data"
    }
   ],
   "source": [
    "TripsDF.plot.scatter(x='pickup_malepercent', y='tip_amount');"
   ]
  }
 ],
 "metadata": {
  "kernelspec": {
   "display_name": "Python 3",
   "language": "python",
   "name": "python3"
  },
  "language_info": {
   "codemirror_mode": {
    "name": "ipython",
    "version": 3
   },
   "file_extension": ".py",
   "mimetype": "text/x-python",
   "name": "python",
   "nbconvert_exporter": "python",
   "pygments_lexer": "ipython3",
   "version": "3.6.0"
  }
 },
 "nbformat": 4,
 "nbformat_minor": 0
}
